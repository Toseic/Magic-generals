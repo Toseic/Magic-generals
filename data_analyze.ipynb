{
 "cells": [
  {
   "cell_type": "code",
   "execution_count": null,
   "metadata": {},
   "outputs": [],
   "source": [
    "import os\n",
    "from random import shuffle\n",
    "import multiprocess as mp\n",
    "import json"
   ]
  },
  {
   "cell_type": "code",
   "execution_count": null,
   "metadata": {},
   "outputs": [],
   "source": [
    "def r_d(path):\n",
    "    file = open(path,\"r\",encoding='utf-8')\n",
    "    data = json.load(file)\n",
    "    file.close()\n",
    "    check_one = 0\n",
    "    for i in data['moves']:\n",
    "        if i[3] == 1:\n",
    "            check_one += 1\n",
    "    return (len(data[\"moves\"], check_one))"
   ]
  },
  {
   "cell_type": "code",
   "execution_count": 3,
   "metadata": {},
   "outputs": [],
   "source": [
    "base_path = \"E:\\\\CodePalace\\\\cpp code\\\\AI-game\\\\Generals.io_crawl\\\\dataset\\\\json\\\\\"\n",
    "path_child = [base_path + i for i in os.listdir(base_path)]\n",
    "path_leaf = []\n",
    "for i in path_child:\n",
    "    if \"zip\" in i: continue\n",
    "    path_leaf += [i + \"\\\\\" + j for j in os.listdir(i)]\n",
    "shuffle(path_leaf)\n",
    "\n",
    "data_all = []\n",
    "print(\"len: \", len(path_leaf))\n",
    "print(\"script begin\")\n",
    "pool  = mp.Pool(mp.cpu_count())\n",
    "result = list(pool.map(r_d, path_leaf))\n",
    "pool.close()\n",
    "pool.join()\n",
    "print(\"begin comp\")\n",
    "num = [0,0]\n",
    "for i in result:\n",
    "    num[0] += i[0]\n",
    "    num[1] += i[1]\n",
    "print(num)\n"
   ]
  }
 ],
 "metadata": {
  "interpreter": {
   "hash": "05c9f544bb1c4e0c1724b358310f9312c9018aa515de70bb7ec9796f92a770af"
  },
  "kernelspec": {
   "display_name": "Python 3.9.0 64-bit",
   "language": "python",
   "name": "python3"
  },
  "language_info": {
   "codemirror_mode": {
    "name": "ipython",
    "version": 3
   },
   "file_extension": ".py",
   "mimetype": "text/x-python",
   "name": "python",
   "nbconvert_exporter": "python",
   "pygments_lexer": "ipython3",
   "version": "3.9.0"
  },
  "orig_nbformat": 4
 },
 "nbformat": 4,
 "nbformat_minor": 2
}
